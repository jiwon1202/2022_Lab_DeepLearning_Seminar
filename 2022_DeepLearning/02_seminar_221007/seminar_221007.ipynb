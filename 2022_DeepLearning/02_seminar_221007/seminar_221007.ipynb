{
 "cells": [
  {
   "cell_type": "code",
   "execution_count": 23,
   "id": "5c831fab",
   "metadata": {},
   "outputs": [],
   "source": [
    "import math\n",
    "def sigmoid(x):\n",
    "    return 1 / (1 + math.exp(-x))"
   ]
  },
  {
   "cell_type": "markdown",
   "id": "a04a5025",
   "metadata": {},
   "source": [
    "## x=1일 때 y=0을 얻는 뉴런의 학습"
   ]
  },
  {
   "cell_type": "code",
   "execution_count": 24,
   "id": "c8042ba9",
   "metadata": {
    "scrolled": true
   },
   "outputs": [
    {
     "name": "stdout",
     "output_type": "stream",
     "text": [
      "100 -2.1023033771024853 0.10994442096255802\n",
      "200 -2.8600414957889475 0.054444174281991296\n",
      "300 -3.2975279998276226 0.035779321692055215\n",
      "400 -3.6042432863244347 0.026555919695950662\n",
      "500 -3.840087359558843 0.021083015933861814\n",
      "600 -4.0315375821074335 0.017467509945939045\n",
      "700 -4.192595159490574 0.014904069188193446\n",
      "800 -4.331552091203601 0.012993174499192699\n",
      "900 -4.453720567827025 0.011514474307753519\n",
      "1000 -4.562706471111595 0.010336611052418364\n"
     ]
    }
   ],
   "source": [
    "import numpy as np\n",
    "\n",
    "x = 1\n",
    "y = 0\n",
    "w = np.random.rand()\n",
    "\n",
    "for i in  range(1000):\n",
    "    output = sigmoid(x * w)\n",
    "    error = y - output\n",
    "    w = w + x * 0.1 * error\n",
    "    \n",
    "    if i % 100 == 99:\n",
    "        print(i + 1, w, output)"
   ]
  },
  {
   "cell_type": "markdown",
   "id": "f33cc708",
   "metadata": {},
   "source": [
    "## x=0일 때 y=1을 얻는 뉴런의 학습"
   ]
  },
  {
   "cell_type": "code",
   "execution_count": 25,
   "id": "c4bfe0d5",
   "metadata": {
    "scrolled": true
   },
   "outputs": [
    {
     "name": "stdout",
     "output_type": "stream",
     "text": [
      "100 0.13276622838966512 0.5\n",
      "200 0.13276622838966512 0.5\n",
      "300 0.13276622838966512 0.5\n",
      "400 0.13276622838966512 0.5\n",
      "500 0.13276622838966512 0.5\n",
      "600 0.13276622838966512 0.5\n",
      "700 0.13276622838966512 0.5\n",
      "800 0.13276622838966512 0.5\n",
      "900 0.13276622838966512 0.5\n",
      "1000 0.13276622838966512 0.5\n"
     ]
    }
   ],
   "source": [
    "x = 0\n",
    "y = 1\n",
    "w = np.random.rand()\n",
    "\n",
    "for i in  range(1000):\n",
    "    output = sigmoid(w * x)\n",
    "    error = y - output\n",
    "    w = w + x * 0.1 * error\n",
    "    \n",
    "    if i % 100 == 99:\n",
    "        print(i + 1, w, output)"
   ]
  },
  {
   "cell_type": "markdown",
   "id": "cd129f3f",
   "metadata": {},
   "source": [
    "## x=0일 때 y=1을 얻는 뉴런의 학습에 편향을 더함"
   ]
  },
  {
   "cell_type": "code",
   "execution_count": 26,
   "id": "bacbf485",
   "metadata": {
    "scrolled": false
   },
   "outputs": [
    {
     "name": "stdout",
     "output_type": "stream",
     "text": [
      "100 0.8972413627076604 2.3504548405564973 0.912270787248262\n",
      "200 0.8972413627076604 2.989762388011755 0.951889630193498\n",
      "300 0.8972413627076604 3.3845642386520236 0.9671142008493981\n",
      "400 0.8972413627076604 3.6695438864810974 0.9750849457290883\n",
      "500 0.8972413627076604 3.8922727126449175 0.9799695850798693\n",
      "600 0.8972413627076604 4.074965550898567 0.9832636108159569\n",
      "700 0.8972413627076604 4.229767759017946 0.9856327290713114\n",
      "800 0.8972413627076604 4.364036182148723 0.9874173997714143\n",
      "900 0.8972413627076604 4.482561390449011 0.9888095648062978\n",
      "1000 0.8972413627076604 4.588635648964082 0.9899255597977773\n"
     ]
    }
   ],
   "source": [
    "x = 0\n",
    "y = 1\n",
    "w = np.random.rand()\n",
    "b = np.random.rand()\n",
    "\n",
    "for i in  range(1000):\n",
    "    output = sigmoid(w * x + b)\n",
    "    error = y - output\n",
    "    w = w + x * 0.1 * error\n",
    "    b = b + 0.1 * error\n",
    "    \n",
    "    if i % 100 == 99:\n",
    "        print(i + 1, w, b, output)"
   ]
  },
  {
   "cell_type": "markdown",
   "id": "09263ec0",
   "metadata": {},
   "source": [
    "## AND 연산"
   ]
  },
  {
   "cell_type": "code",
   "execution_count": 27,
   "id": "3f9199c4",
   "metadata": {},
   "outputs": [
    {
     "name": "stdout",
     "output_type": "stream",
     "text": [
      "X: [1 1] Y: [1] Output: 0.9647916233308025\n",
      "X: [1 0] Y: [0] Output: 0.02495010564713475\n",
      "X: [0 1] Y: [0] Output: 0.02502658853315836\n",
      "X: [0 0] Y: [0] Output: 2.396936331553848e-05\n"
     ]
    }
   ],
   "source": [
    "x = np.array([[1,1], [1,0], [0,1], [0,0]])\n",
    "y = np.array([[1], [0], [0], [0]])\n",
    "w = np.random.rand(1, 2)\n",
    "b = np.random.rand()\n",
    "\n",
    "for i in range(2000):\n",
    "    for j in range(4):\n",
    "        output = sigmoid(np.sum(x[j] * w) + b)\n",
    "        error = y[j][0] - output\n",
    "        w = w + x[j] * 0.1 * error\n",
    "        b = b + 0.1 * error\n",
    "\n",
    "for i in range(4):\n",
    "    print(\"X:\", x[i], \"Y:\", y[i], \"Output:\", sigmoid(np.sum(x[i]*w) + b))"
   ]
  },
  {
   "cell_type": "markdown",
   "id": "ab8b6041",
   "metadata": {},
   "source": [
    "## OR 연산"
   ]
  },
  {
   "cell_type": "code",
   "execution_count": 28,
   "id": "b0156a73",
   "metadata": {},
   "outputs": [
    {
     "name": "stdout",
     "output_type": "stream",
     "text": [
      "X: [1 1] Y: [1] Output: 0.9999972106669126\n",
      "X: [1 0] Y: [1] Output: 0.9897916403093915\n",
      "X: [0 1] Y: [1] Output: 0.9897774067583474\n",
      "X: [0 0] Y: [0] Output: 0.02551760214285727\n"
     ]
    }
   ],
   "source": [
    "x = np.array([[1,1], [1,0], [0,1], [0,0]])\n",
    "y = np.array([[1], [1], [1], [0]])\n",
    "w = np.random.rand(1, 2)\n",
    "b = np.random.rand()\n",
    "\n",
    "for i in range(2000):\n",
    "    for j in range(4):\n",
    "        output = sigmoid(np.sum(x[j] * w) + b)\n",
    "        error = y[j][0] - output\n",
    "        w = w + x[j] * 0.1 * error\n",
    "        b = b + 0.1 * error\n",
    "\n",
    "for i in range(4):\n",
    "    print(\"X:\", x[i], \"Y:\", y[i], \"Output:\", sigmoid(np.sum(x[i]*w) + b))"
   ]
  },
  {
   "cell_type": "markdown",
   "id": "cf838a79",
   "metadata": {},
   "source": [
    "## XOR 연산"
   ]
  },
  {
   "cell_type": "code",
   "execution_count": 29,
   "id": "f5b7dcd2",
   "metadata": {},
   "outputs": [
    {
     "name": "stdout",
     "output_type": "stream",
     "text": [
      "X: [1 1] Y: [0] Output: 0.512817631916442\n",
      "X: [1 0] Y: [1] Output: 0.5128176319164416\n",
      "X: [0 1] Y: [1] Output: 0.4999999999999999\n",
      "X: [0 0] Y: [0] Output: 0.49999999999999944\n"
     ]
    }
   ],
   "source": [
    "x = np.array([[1,1], [1,0], [0,1], [0,0]])\n",
    "y = np.array([[0], [1], [1], [0]])\n",
    "w = np.random.rand(1, 2)\n",
    "b = np.random.rand()\n",
    "\n",
    "for i in range(2000):\n",
    "    for j in range(4):\n",
    "        output = sigmoid(np.sum(x[j] * w) + b)\n",
    "        error = y[j][0] - output\n",
    "        w = w + x[j] * 0.1 * error\n",
    "        b = b + 0.1 * error\n",
    "\n",
    "for i in range(4):\n",
    "    print(\"X:\", x[i], \"Y:\", y[i], \"Output:\", sigmoid(np.sum(x[i]*w) + b))"
   ]
  },
  {
   "cell_type": "markdown",
   "id": "d927fe78",
   "metadata": {},
   "source": [
    "## XOR 연산 - 해결책(1) 다층 퍼셉트론"
   ]
  },
  {
   "cell_type": "code",
   "execution_count": 30,
   "id": "cc85d4db",
   "metadata": {},
   "outputs": [
    {
     "name": "stdout",
     "output_type": "stream",
     "text": [
      "입력 값: (0, 0) 출력 값: 0\n",
      "입력 값: (1, 0) 출력 값: 1\n",
      "입력 값: (0, 1) 출력 값: 1\n",
      "입력 값: (1, 1) 출력 값: 0\n"
     ]
    }
   ],
   "source": [
    "# 가중치와 바이어스\n",
    "w11 = np.array([-2, -2])\n",
    "w12 = np.array([2, 2])\n",
    "w2 = np.array([1, 1])\n",
    "b1 = 3\n",
    "b2 = -1\n",
    "b3 = -1\n",
    "\n",
    "# 퍼셉트론\n",
    "def MLP(x, w, b):\n",
    "    y = np.sum(w * x) + b\n",
    "    if y <= 0:\n",
    "        return 0\n",
    "    else:\n",
    "        return 1\n",
    "\n",
    "# NAND 게이트\n",
    "def NAND(x1,x2):\n",
    "    return MLP(np.array([x1, x2]), w11, b1)\n",
    "\n",
    "# OR 게이트\n",
    "def OR(x1,x2):\n",
    "    return MLP(np.array([x1, x2]), w12, b2)\n",
    "\n",
    "# AND 게이트\n",
    "def AND(x1,x2):\n",
    "    return MLP(np.array([x1, x2]), w2, b3)\n",
    "\n",
    "# XOR 게이트\n",
    "def XOR(x1,x2):\n",
    "    return AND(NAND(x1, x2),OR(x1,x2))\n",
    "\n",
    "# x1, x2 값을 번갈아 대입해 가며 최종 값 출력\n",
    "for x in [(0, 0), (1, 0), (0, 1), (1, 1)]:\n",
    "    y = XOR(x[0], x[1])\n",
    "    print(\"입력 값: \" + str(x) + \" 출력 값: \" + str(y))    "
   ]
  },
  {
   "cell_type": "markdown",
   "id": "a2306136",
   "metadata": {},
   "source": [
    "## XOR 연산 - 해결책(2) 오차 역전파 [심화]"
   ]
  },
  {
   "cell_type": "code",
   "execution_count": 31,
   "id": "c1bd167d",
   "metadata": {},
   "outputs": [
    {
     "name": "stdout",
     "output_type": "stream",
     "text": [
      "error: 0.62503\n",
      "error: 0.00259\n",
      "error: 0.00087\n",
      "error: 0.00051\n",
      "error: 0.00036\n",
      "error: 0.00027\n",
      "error: 0.00022\n",
      "error: 0.00018\n",
      "error: 0.00016\n",
      "error: 0.00014\n",
      "Input: [0, 0], Predict: [0.000578942548644204]\n",
      "Input: [0, 1], Predict: [0.9889601792406171]\n",
      "Input: [1, 0], Predict: [0.9889925748004792]\n",
      "Input: [1, 1], Predict: [0.0021918079941000562]\n"
     ]
    }
   ],
   "source": [
    "import random\n",
    "import numpy as np\n",
    "\n",
    "# 환경 변수 지정\n",
    "\n",
    "# 입력값 및 타깃 값\n",
    "data = [\n",
    "    [[0, 0], [0]],\n",
    "    [[0, 1], [1]],\n",
    "    [[1, 0], [1]],\n",
    "    [[1, 1], [0]]\n",
    "]\n",
    "\n",
    "# 실행 횟수(iterations), 학습률(lr), 모멘텀 계수(mo) 설정\n",
    "iterations=5000\n",
    "lr=0.1\n",
    "mo=0.4\n",
    "\n",
    "# 활성화 함수 - 1. 시그모이드\n",
    "# 미분할 때와 아닐 때의 각각의 값\n",
    "def sigmoid(x, derivative=False):\n",
    "    if (derivative == True):\n",
    "        return x * (1 - x)\n",
    "    return 1 / (1 + np.exp(-x))\n",
    "\n",
    "# 활성화 함수 - 2. tanh\n",
    "# tanh 함수의 미분은 1 - (활성화 함수 출력의 제곱)\n",
    "def tanh(x, derivative=False):\n",
    "    if (derivative == True):\n",
    "        return 1 - x ** 2\n",
    "    return np.tanh(x)\n",
    "\n",
    "# 가중치 배열 만드는 함수\n",
    "def makeMatrix(i, j, fill=0.0):\n",
    "    mat = []\n",
    "    for i in range(i):\n",
    "        mat.append([fill] * j)\n",
    "    return mat\n",
    "\n",
    "# 신경망의 실행\n",
    "class NeuralNetwork:\n",
    "\n",
    "    # 초깃값의 지정\n",
    "    def __init__(self, num_x, num_yh, num_yo, bias=1):\n",
    "\n",
    "        # 입력값(num_x), 은닉층 초깃값(num_yh), 출력층 초깃값(num_yo), 바이어스\n",
    "        self.num_x = num_x + bias  # 바이어스는 1로 지정(본문 참조)\n",
    "        self.num_yh = num_yh\n",
    "        self.num_yo = num_yo\n",
    "\n",
    "        # 활성화 함수 초깃값\n",
    "        self.activation_input = [1.0] * self.num_x\n",
    "        self.activation_hidden = [1.0] * self.num_yh\n",
    "        self.activation_out = [1.0] * self.num_yo\n",
    "\n",
    "        # 가중치 입력 초깃값\n",
    "        self.weight_in = makeMatrix(self.num_x, self.num_yh)\n",
    "        for i in range(self.num_x):\n",
    "            for j in range(self.num_yh):\n",
    "                self.weight_in[i][j] = random.random()\n",
    "\n",
    "        # 가중치 출력 초깃값\n",
    "        self.weight_out = makeMatrix(self.num_yh, self.num_yo)\n",
    "        for j in range(self.num_yh):\n",
    "            for k in range(self.num_yo):\n",
    "                self.weight_out[j][k] = random.random()\n",
    "\n",
    "        # 모멘텀 SGD를 위한 이전 가중치 초깃값\n",
    "        self.gradient_in = makeMatrix(self.num_x, self.num_yh)\n",
    "        self.gradient_out = makeMatrix(self.num_yh, self.num_yo)\n",
    "\n",
    "    # 업데이트 함수\n",
    "    def update(self, inputs):\n",
    "\n",
    "        # 입력 레이어의 활성화 함수\n",
    "        for i in range(self.num_x - 1):\n",
    "            self.activation_input[i] = inputs[i]\n",
    "\n",
    "        # 은닉층의 활성화 함수\n",
    "        for j in range(self.num_yh):\n",
    "            sum = 0.0\n",
    "            for i in range(self.num_x):\n",
    "                sum = sum + self.activation_input[i] * self.weight_in[i][j]\n",
    "            # 시그모이드와 tanh 중에서 활성화 함수 선택\n",
    "            self.activation_hidden[j] = tanh(sum, False)\n",
    "\n",
    "        # 출력층의 활성화 함수\n",
    "        for k in range(self.num_yo):\n",
    "            sum = 0.0\n",
    "            for j in range(self.num_yh):\n",
    "                sum = sum + self.activation_hidden[j] * self.weight_out[j][k]\n",
    "            # 시그모이드와 tanh 중에서 활성화 함수 선택\n",
    "            self.activation_out[k] = tanh(sum, False)\n",
    "\n",
    "        return self.activation_out[:]\n",
    "    \n",
    "    # 역전파의 실행\n",
    "    def backPropagate(self, targets):\n",
    "\n",
    "        # 델타 출력 계산\n",
    "        output_deltas = [0.0] * self.num_yo\n",
    "        for k in range(self.num_yo):\n",
    "            error = targets[k] - self.activation_out[k]\n",
    "            # 시그모이드와 tanh 중에서 활성화 함수 선택, 미분 적용\n",
    "            output_deltas[k] = tanh(self.activation_out[k], True) * error\n",
    "\n",
    "        # 은닉 노드의 오차 함수\n",
    "        hidden_deltas = [0.0] * self.num_yh\n",
    "        for j in range(self.num_yh):\n",
    "            error = 0.0\n",
    "            for k in range(self.num_yo):\n",
    "                error = error + output_deltas[k] * self.weight_out[j][k]\n",
    "                # 시그모이드와 tanh 중에서 활성화 함수 선택, 미분 적용\n",
    "            hidden_deltas[j] = tanh(self.activation_hidden[j], True) * error\n",
    "\n",
    "        # 출력 가중치 업데이트\n",
    "        for j in range(self.num_yh):\n",
    "            for k in range(self.num_yo):\n",
    "                gradient = output_deltas[k] * self.activation_hidden[j]\n",
    "                v = mo * self.gradient_out[j][k] - lr * gradient\n",
    "                self.weight_out[j][k] += v\n",
    "                self.gradient_out[j][k] = gradient\n",
    "\n",
    "        # 입력 가중치 업데이트\n",
    "        for i in range(self.num_x):\n",
    "            for j in range(self.num_yh):\n",
    "                gradient = hidden_deltas[j] * self.activation_input[i]\n",
    "                v = mo*self.gradient_in[i][j] - lr * gradient\n",
    "                self.weight_in[i][j] += v\n",
    "                self.gradient_in[i][j] = gradient\n",
    "\n",
    "        # 오차의 계산(최소 제곱법)\n",
    "        error = 0.0\n",
    "        for k in range(len(targets)):\n",
    "            error = error + 0.5 * (targets[k] - self.activation_out[k]) ** 2\n",
    "        return error\n",
    "\n",
    "    # 학습 실행\n",
    "    def train(self, patterns):\n",
    "        for i in range(iterations):\n",
    "            error = 0.0\n",
    "            for p in patterns:\n",
    "                inputs = p[0]\n",
    "                targets = p[1]\n",
    "                self.update(inputs)\n",
    "                error = error + self.backPropagate(targets)\n",
    "            if i % 500 == 0:\n",
    "                print('error: %-.5f' % error)\n",
    "    # 결괏값 출력\n",
    "    def result(self, patterns):\n",
    "        for p in patterns:\n",
    "            print('Input: %s, Predict: %s' % (p[0], self.update(p[0])))\n",
    "\n",
    "if __name__ == '__main__':\n",
    "    # 두 개의 입력 값, 두 개의 레이어, 하나의 출력 값을 갖도록 설정\n",
    "    n = NeuralNetwork(2, 2, 1)\n",
    "\n",
    "    # 학습 실행\n",
    "    n.train(data)\n",
    "\n",
    "    # 결괏값 출력\n",
    "    n.result(data)\n",
    "\n",
    "# Reference: http://arctrix.com/nas/python/bpnn.py (Neil Schemenauer)"
   ]
  }
 ],
 "metadata": {
  "kernelspec": {
   "display_name": "Python 3",
   "language": "python",
   "name": "python3"
  },
  "language_info": {
   "codemirror_mode": {
    "name": "ipython",
    "version": 3
   },
   "file_extension": ".py",
   "mimetype": "text/x-python",
   "name": "python",
   "nbconvert_exporter": "python",
   "pygments_lexer": "ipython3",
   "version": "3.8.8"
  }
 },
 "nbformat": 4,
 "nbformat_minor": 5
}
